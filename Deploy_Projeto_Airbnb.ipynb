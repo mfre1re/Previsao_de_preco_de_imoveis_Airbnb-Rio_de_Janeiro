{
 "cells": [
  {
   "cell_type": "code",
   "execution_count": 24,
   "id": "010c3383",
   "metadata": {},
   "outputs": [
    {
     "name": "stdout",
     "output_type": "stream",
     "text": [
      "{'property_type_Apartment': 0, 'property_type_Bed and breakfast': 0, 'property_type_Condominium': 0, 'property_type_Guest suite': 0, 'property_type_Guesthouse': 0, 'property_type_Hostel': 0, 'property_type_House': 0, 'property_type_Loft': 0, 'property_type_Other': 0, 'property_type_Serviced apartment': 0, 'room_type_Entire home/apt': 0, 'room_type_Hotel room': 0, 'room_type_Private room': 0, 'room_type_Shared room': 0, 'cancellation_policy_flexible': 0, 'cancellation_policy_moderate': 0, 'cancellation_policy_strict': 0, 'cancellation_policy_strict_14_with_grace_period': 0}\n"
     ]
    }
   ],
   "source": [
    "import pandas as pd\n",
    "import streamlit as st\n",
    "import joblib\n",
    "        \n",
    "x_numericos = {'latitude': 0, 'longitude': 0, 'accommodates': 0, 'bathrooms': 0, 'bedrooms': 0, 'beds': 0, 'extra_people': 0,\n",
    "               'minimum_nights': 0, 'mes': 0, 'ano': 0, 'qntd_amenities': 0, 'host_listings_count': 0}\n",
    "\n",
    "x_tf = {'host_is_superhost': 0, 'instant_bookable': 0}\n",
    "\n",
    "x_listas = {'property_type': ['Apartment', 'Bed and breakfast', 'Condominium', 'Guest suite', 'Guesthouse', 'Hostel', 'House', 'Loft', 'Other', 'Serviced apartment'],\n",
    "            'room_type': ['Entire home/apt', 'Hotel room', 'Private room', 'Shared room'],\n",
    "            'cancellation_policy': ['flexible', 'moderate', 'strict', 'strict_14_with_grace_period']}\n",
    "       \n",
    "dicionario = {}\n",
    "for item in x_listas:\n",
    "    for valor in x_listas[item]:\n",
    "        dicionario[f\"{item}_{valor}\"] = 0\n",
    "print(dicionario)\n",
    "        \n",
    "for item in x_numericos:\n",
    "    if item == \"latitude\" or item == \"longitude\":\n",
    "        valor = st.number_input(f\"{item}\", step = 0.00001, value = 0.0, format=\"%.5f\")\n",
    "    elif item == \"extra_people\":\n",
    "        valor = st.number_input(f\"{item}\", step = 0.01, value = 0.0)\n",
    "    else:\n",
    "        valor = st.number_input(f\"{item}\", step = 1, value = 0)\n",
    "    x_numericos[item] = valor\n",
    "    \n",
    "for item in x_tf:\n",
    "    valor = st.selectbox(f'{item}', ('Sim', 'Não'))\n",
    "    if valor == \"Sim\":\n",
    "        x_tf[item] = 1\n",
    "    else:\n",
    "        x_tf[item] = 0\n",
    "    \n",
    "for item in x_listas:\n",
    "    valor = st.selectbox(f'{item}', x_listas[item])\n",
    "    dicionario[f\"{item}_{valor}\"] = 1\n",
    "    \n",
    "botao = st.button(\"Prever valor do Imóvel\")\n",
    "\n",
    "if botao:\n",
    "    dicionario.update(x_numericos)\n",
    "    dicionario.update(x_tf)\n",
    "    valores_x = pd.DataFrame(dicionario, index=[0])   \n",
    "    dados = pd.read_csv(\"dados.csv\")\n",
    "    colunas = list(dados.columns)[1:-1]  \n",
    "    valores_x = valores_x[colunas] \n",
    "    modelo = joblib.load(\"modelo.joblib\")\n",
    "    preco = modelo.predict(valores_x)\n",
    "    st.write(preco[0])\n"
   ]
  },
  {
   "cell_type": "code",
   "execution_count": null,
   "id": "239d9713",
   "metadata": {},
   "outputs": [],
   "source": []
  }
 ],
 "metadata": {
  "kernelspec": {
   "display_name": "Python 3 (ipykernel)",
   "language": "python",
   "name": "python3"
  },
  "language_info": {
   "codemirror_mode": {
    "name": "ipython",
    "version": 3
   },
   "file_extension": ".py",
   "mimetype": "text/x-python",
   "name": "python",
   "nbconvert_exporter": "python",
   "pygments_lexer": "ipython3",
   "version": "3.9.13"
  }
 },
 "nbformat": 4,
 "nbformat_minor": 5
}
